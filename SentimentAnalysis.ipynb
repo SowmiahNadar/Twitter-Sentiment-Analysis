{
  "cells": [
    {
      "cell_type": "code",
      "execution_count": null,
      "metadata": {
        "colab": {
          "base_uri": "https://localhost:8080/"
        },
        "id": "mLaMJUn9PCrE",
        "outputId": "1a47aada-fab0-4d7d-d481-ab3da53925a2"
      },
      "outputs": [
        {
          "output_type": "stream",
          "name": "stdout",
          "text": [
            "Requirement already satisfied: textblob in /usr/local/lib/python3.7/dist-packages (0.15.3)\n",
            "Requirement already satisfied: nltk>=3.1 in /usr/local/lib/python3.7/dist-packages (from textblob) (3.2.5)\n",
            "Requirement already satisfied: six in /usr/local/lib/python3.7/dist-packages (from nltk>=3.1->textblob) (1.15.0)\n"
          ]
        }
      ],
      "source": [
        "pip install textblob"
      ]
    },
    {
      "cell_type": "code",
      "execution_count": null,
      "metadata": {
        "colab": {
          "base_uri": "https://localhost:8080/"
        },
        "id": "IWPdvmwxPONF",
        "outputId": "ebf7c99e-0e13-48e0-848d-37264c315b5b"
      },
      "outputs": [
        {
          "output_type": "stream",
          "name": "stdout",
          "text": [
            "Requirement already satisfied: tweepy in /usr/local/lib/python3.7/dist-packages (3.10.0)\n",
            "Requirement already satisfied: six>=1.10.0 in /usr/local/lib/python3.7/dist-packages (from tweepy) (1.15.0)\n",
            "Requirement already satisfied: requests-oauthlib>=0.7.0 in /usr/local/lib/python3.7/dist-packages (from tweepy) (1.3.1)\n",
            "Requirement already satisfied: requests[socks]>=2.11.1 in /usr/local/lib/python3.7/dist-packages (from tweepy) (2.23.0)\n",
            "Requirement already satisfied: oauthlib>=3.0.0 in /usr/local/lib/python3.7/dist-packages (from requests-oauthlib>=0.7.0->tweepy) (3.2.0)\n",
            "Requirement already satisfied: certifi>=2017.4.17 in /usr/local/lib/python3.7/dist-packages (from requests[socks]>=2.11.1->tweepy) (2021.10.8)\n",
            "Requirement already satisfied: chardet<4,>=3.0.2 in /usr/local/lib/python3.7/dist-packages (from requests[socks]>=2.11.1->tweepy) (3.0.4)\n",
            "Requirement already satisfied: urllib3!=1.25.0,!=1.25.1,<1.26,>=1.21.1 in /usr/local/lib/python3.7/dist-packages (from requests[socks]>=2.11.1->tweepy) (1.24.3)\n",
            "Requirement already satisfied: idna<3,>=2.5 in /usr/local/lib/python3.7/dist-packages (from requests[socks]>=2.11.1->tweepy) (2.10)\n",
            "Requirement already satisfied: PySocks!=1.5.7,>=1.5.6 in /usr/local/lib/python3.7/dist-packages (from requests[socks]>=2.11.1->tweepy) (1.7.1)\n"
          ]
        }
      ],
      "source": [
        "pip install tweepy"
      ]
    },
    {
      "cell_type": "code",
      "execution_count": 1,
      "metadata": {
        "id": "euqqCo52Pc5P"
      },
      "outputs": [],
      "source": [
        "from textblob import TextBlob\n",
        "import sys\n",
        "import tweepy\n",
        "import matplotlib.pyplot as plt\n",
        "import pandas as pd\n",
        "import numpy as np\n",
        "import os\n",
        "import nltk\n",
        "import re\n",
        "import string"
      ]
    },
    {
      "cell_type": "code",
      "execution_count": 2,
      "metadata": {
        "id": "8hf0zzhTQAgu"
      },
      "outputs": [],
      "source": [
        "from tweepy import OAuthHandler\n",
        "  \n",
        "class TwitterClient(object):\n",
        "    '''\n",
        "    Generic Twitter Class for sentiment analysis.\n",
        "    '''\n",
        "    def __init__(self):\n",
        "        '''\n",
        "        Class constructor or initialization method.\n",
        "        '''\n",
        "        # keys and tokens from the Twitter Dev Console\n",
        "        consumer_key = '68ifCM8OZQmCE1BzBY3df6Uzm'\n",
        "        consumer_secret = 'o6f6L48gNrErLyJmHwhJzHOVZyO8VgiRBGrD8u4pEjKy9SRK6K'\n",
        "        access_token = '912151897519226880-GxP1EmngZjix0RnMcxwZlamzhkmVRNg'\n",
        "        access_token_secret = 'PZ1nEvkpYRHkkwWj5BprMSGBJBdg7Q30cZoYFlIalrxiv'\n",
        "  \n",
        "        # attempt authentication\n",
        "        try:\n",
        "            # create OAuthHandler object\n",
        "            self.auth = OAuthHandler(consumer_key, consumer_secret)\n",
        "            # set access token and secret\n",
        "            self.auth.set_access_token(access_token, access_token_secret)\n",
        "            # create tweepy API object to fetch tweets\n",
        "            self.api = tweepy.API(self.auth)\n",
        "        except:\n",
        "            print(\"Error: Authentication Failed\")\n",
        "  \n",
        "    def clean_tweet(self, tweet):\n",
        "        '''\n",
        "        Utility function to clean tweet text by removing links, special characters\n",
        "        using simple regex statements.\n",
        "        '''\n",
        "        return ' '.join(re.sub(\"(@[A-Za-z0-9]+)|([^0-9A-Za-z \\t]) |(\\w+:\\/\\/\\S+)\", \" \", tweet).split()) \n",
        "  \n",
        "    def get_tweet_sentiment(self, tweet):\n",
        "        '''\n",
        "        Utility function to classify sentiment of passed tweet\n",
        "        using textblob's sentiment method\n",
        "        '''\n",
        "        # create TextBlob object of passed tweet text\n",
        "        analysis = TextBlob(self.clean_tweet(tweet))\n",
        "        # set sentiment\n",
        "        if analysis.sentiment.polarity > 0:\n",
        "            return 'positive'\n",
        "        elif analysis.sentiment.polarity == 0:\n",
        "            return 'neutral'\n",
        "        else:\n",
        "            return 'negative'\n",
        "  \n",
        "    def get_tweets(self, query, count = 10):\n",
        "        '''\n",
        "        Main function to fetch tweets and parse them.\n",
        "        '''\n",
        "        # empty list to store parsed tweets\n",
        "        tweets = []\n",
        "  \n",
        "        try:\n",
        "            # call twitter api to fetch tweets\n",
        "            fetched_tweets = self.api.search(q = query, count = count)\n",
        "  \n",
        "            # parsing tweets one by one\n",
        "            for tweet in fetched_tweets:\n",
        "                # empty dictionary to store required params of a tweet\n",
        "                parsed_tweet = {}\n",
        "  \n",
        "                # saving text of tweet\n",
        "                parsed_tweet['text'] = tweet.text\n",
        "                # saving sentiment of tweet\n",
        "                parsed_tweet['sentiment'] = self.get_tweet_sentiment(tweet.text)\n",
        "  \n",
        "                # appending parsed tweet to tweets list\n",
        "                if tweet.retweet_count > 0:\n",
        "                    # if tweet has retweets, ensure that it is appended only once\n",
        "                    if parsed_tweet not in tweets:\n",
        "                        tweets.append(parsed_tweet)\n",
        "                else:\n",
        "                    tweets.append(parsed_tweet)\n",
        "  \n",
        "            # return parsed tweets\n",
        "            return tweets\n",
        "  \n",
        "        except tweepy.TweepError as e:\n",
        "            # print error (if any)\n",
        "            print(\"Error : \" + str(e))"
      ]
    },
    {
      "cell_type": "code",
      "execution_count": 3,
      "metadata": {
        "colab": {
          "base_uri": "https://localhost:8080/",
          "height": 1000
        },
        "id": "_p9EXvxfQGvE",
        "outputId": "1231c939-0ec4-4839-d96c-942a860cfd22"
      },
      "outputs": [
        {
          "output_type": "stream",
          "name": "stdout",
          "text": [
            "Please enter keyword or hashtag to search: PS1\n",
            "Please enter how many tweets to analyze: 100\n",
            "\n",
            "Positive tweets percentage: 41.86046511627907 %\n",
            "\n",
            "Negative tweets percentage: 6.976744186046512 %\n",
            "\n",
            "Neutral tweets percentage: 51.16279069767442 %        \n"
          ]
        },
        {
          "output_type": "display_data",
          "data": {
            "text/plain": [
              "<Figure size 432x288 with 1 Axes>"
            ],
            "image/png": "[encoded data removed]"
          },
          "metadata": {}
        },
        {
          "output_type": "stream",
          "name": "stdout",
          "text": [
            "\u001b[1m\n",
            "\n",
            "Positive tweets:\u001b[0m\n",
            "RT @BoxOfficeSouth2: Top 10 Tamil Movies Worldwide Gross - 2022\n",
            "\n",
            "1) #PS1 : 495.60 Cr\n",
            "2) #Vikram : 430.60 Cr\n",
            "3) #Beast : 235.90 Cr\n",
            "4) #Valim…\n",
            "NEW Twitch Schedule! 🎤 (**link below**)\n",
            "\n",
            "SO excited for this week!! Parappa &amp; the Nana-On Sha PS1 music trio tonigh… https://t.co/KdpYtFlPz7\n",
            "@music_by_KoY pior parcero, se nao fosse pirataria nao teriamos live, jogo de ps1, quantos filme nois só te acesso… https://t.co/8LV0VgVKqI\n",
            "RT @dt_next: Mani Ratnam’s epic movie Ponniyin Selvan: 1 has smashed box-office records as it stands as one of the biggest Tamil movies of…\n",
            "@ChaosSpreads97 @16bitnostalgia PS1 version is perfect\n",
            "@kgfch2waiting @CineTimeCanada @saruban11 Guys that's the whole point. Distributors are charging way too high. KW t… https://t.co/3bKTvpn7tV\n",
            "@16bitnostalgia The PS1 version plays happily in Tate mode on the #PSVita \n",
            "\n",
            "Recommended (although use an external D… https://t.co/N9YiAchKNx\n",
            "RT @offlmrmultiplex: Here's the top 10 film of 2022💥🥁\n",
            "\n",
            "1. #PonniyinSelvan1 *\n",
            "2. #Vikram\n",
            "3. #KGF2\n",
            "4. #Beast\n",
            "5. #Don\n",
            "6. #Valimai\n",
            "7. #Thiruchi…\n",
            "RT @MovieholicM: This two are the real show stealer of Ponnniyin Selvan ❤️👏🔥\n",
            "\n",
            "@trishtrashers\n",
            "\n",
            "#AishwaryaRaiBachchan #MovieholicMallu #PS1 #…\n",
            "RT @sharon______n: #Gold in Iceland \n",
            "\n",
            "First Malayalam Movie in Iceland and 2nd Indian Movie after PS1 ❤️\n",
            "\n",
            "#GoldMovie https://t.co/micdyeO2vI\n",
            "\u001b[1m\n",
            "\n",
            "Negative tweets:\u001b[0m\n",
            "tava lembrando sobre a energia INCRÍVEL que era jogar uma world cup no winning eleven de ps1 com meus amigos, hoje… https://t.co/F4jKdqzn97\n",
            "@Xbox I just picked one up and am using my new 4K 9th Gen system to play a PS1 game https://t.co/NEEQVmhUBf\n",
            "Pro Pinball: Fun Retro Gameplay - PS1 Game\n",
            "\n",
            "Get inside the world of pinball for the PlayStation 1, featuring a uniq… https://t.co/hOuPy1UuQH\n",
            "\u001b[1m\n",
            "\n",
            "Neutral tweets:\u001b[0m\n",
            "@YutoAono_7106 PS1ですね💫\n",
            "@rit4random Emulação de ps1 é altamente facil e corre em qualquer batata 👀👀\n",
            "RT @hinokida_m: １１月２９日。\n",
            "1996年のこの日、ＰＳ１用ゲーム『金田一少年の事件簿～悲報島新たなる惨劇』が講談社から販売されました（当時は講談社内にゲームを作る部署があったのです）。\n",
            "それまでは映画やテレビドラマのシナリオ、プロット、企画書を作る仕事をしてた…\n",
            "@David_Payan2 Galerians m'a beaucoup marqué ainsi que G Police, l'un de mes préférés sur PS1\n",
            "RT @Kamaladdict7: ஆல்டைம் திண்டுக்கல்லில் அதிக மக்கள் பார்த்ததும் அதிக வசூல் செய்ததும் #Vikram தான், 2) PS1 3) டான் 4) பீஸ்ட் 5) வலிமை @Uma…\n",
            "自分のツリ目好きはとあるPS1のゲームが原因かと分析してる。\n",
            "\n",
            "啄木鳥しんき先生…\n",
            "@JefinhoMenes PS1 F-1 Championship edition.\n",
            "@jhonatan3392 @antimateriahdf @ChaosCuate Al menos xbox esta dando mas pelea esta generacion que la anterior, aun a… https://t.co/BZ2zYKDNXN\n",
            "nunca vi nada más fachero que los cd completamente negros de la ps1, eran otra cosa\n",
            "@badvixbunny PS5??? Ho I’ll take a PS1\n"
          ]
        }
      ],
      "source": [
        " def main():\n",
        "    # creating object of TwitterClient Class\n",
        "    api = TwitterClient()\n",
        "\n",
        "    def percentage(part,whole):\n",
        "      return 100 * float(part)/float(whole)\n",
        "    class color:\n",
        "      BOLD='\\033[1m'\n",
        "      END='\\033[0m'\n",
        "   \n",
        "    keyword = input(\"Please enter keyword or hashtag to search: \")\n",
        "    noOfTweet = int(input (\"Please enter how many tweets to analyze: \"))\n",
        "\n",
        "    # calling function to get \n",
        "    tweets = api.get_tweets(query = keyword, count = noOfTweet) \n",
        "\n",
        "    # picking positive tweets from tweets\n",
        "    ptweets = [tweet for tweet in tweets if tweet['sentiment'] == 'positive']\n",
        "    b=len(ptweets)\n",
        "    # percentage of positive tweets\n",
        "    print(\"\\nPositive tweets percentage: {} %\".format(100*len(ptweets)/len(tweets)))\n",
        "    # picking negative tweets from tweets\n",
        "    ntweets = [tweet for tweet in tweets if tweet['sentiment'] == 'negative']\n",
        "    a=len(ntweets)\n",
        "    # percentage of negative tweets\n",
        "    print(\"\\nNegative tweets percentage: {} %\".format(100*len(ntweets)/len(tweets)))\n",
        "    # percentage of neutral tweets\n",
        "    netweets = [tweet for tweet in tweets if tweet['sentiment'] == 'neutral']\n",
        "    x=len(netweets)\n",
        "    print(\"\\nNeutral tweets percentage: {} % \\\n",
        "        \".format(100*(len(tweets) -(len( ntweets )+len( ptweets)))/len(tweets)))\n",
        "    \n",
        "    y = np.array([b, a, x])\n",
        "    mylabels = [\"Positive\", \"Negative\", \"Neutral\"]\n",
        "\n",
        "    #plt.pie(y, labels = mylabels)\n",
        "    # Plot\n",
        "    plt.pie(y, labels=mylabels)\n",
        "    plt.legend(mylabels)\n",
        "    plt.axis('equal')\n",
        "    plt.title(\"\\n Sentiment Analysis Result for keyword= \"+keyword+\"\" )\n",
        "    plt.axis('equal')\n",
        "    plt.show()\n",
        "\n",
        "    # printing first 5 positive tweets\n",
        "    print(color.BOLD+\"\\n\\nPositive tweets:\"+color.END)\n",
        "    for tweet in ptweets[:10]:\n",
        "        print(tweet['text'])\n",
        "  \n",
        "    # printing first 5 negative tweets\n",
        "    print(color.BOLD+\"\\n\\nNegative tweets:\"+color.END)\n",
        "    for tweet in ntweets[:10]:\n",
        "        print(tweet['text'])\n",
        "  \n",
        "    # printing first 5 neutral tweets\n",
        "    print(color.BOLD+\"\\n\\nNeutral tweets:\"+color.END)\n",
        "    for tweet in netweets[:10]:\n",
        "        print(tweet['text'])\n",
        "\n",
        "if __name__ == \"__main__\":\n",
        "    # calling main function\n",
        "     main()"
      ]
    },
    {
      "cell_type": "code",
      "source": [],
      "metadata": {
        "id": "jRybrGvtOUx6"
      },
      "execution_count": null,
      "outputs": []
    }
  ],
  "metadata": {
    "colab": {
      "provenance": []
    },
    "kernelspec": {
      "display_name": "Python 3",
      "name": "python3"
    },
    "language_info": {
      "name": "python"
    }
  },
  "nbformat": 4,
  "nbformat_minor": 0
}